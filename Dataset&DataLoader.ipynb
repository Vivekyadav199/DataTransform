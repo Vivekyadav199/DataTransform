{
  "nbformat": 4,
  "nbformat_minor": 0,
  "metadata": {
    "colab": {
      "provenance": []
    },
    "kernelspec": {
      "name": "python3",
      "display_name": "Python 3"
    },
    "language_info": {
      "name": "python"
    }
  },
  "cells": [
    {
      "cell_type": "code",
      "execution_count": null,
      "metadata": {
        "id": "lgAv7BR0LWoz"
      },
      "outputs": [],
      "source": [
        "import torch\n",
        "from torch.utils.data import Dataset, DataLoader\n",
        "from torchvision import transforms\n",
        "from sklearn.datasets import load_wine\n",
        "import pandas as pd\n",
        "\n"
      ]
    },
    {
      "cell_type": "code",
      "source": [],
      "metadata": {
        "id": "bbqPXKObNHo3"
      },
      "execution_count": null,
      "outputs": []
    },
    {
      "cell_type": "code",
      "source": [
        "# Custom dataset class for the Wine dataset\n",
        "class WineDataset(Dataset):\n",
        "    def __init__(self, data):\n",
        "        self.data = pd.DataFrame(data.data, columns=data.feature_names)\n",
        "        self.data['target'] = data.target\n",
        "\n",
        "    def __len__(self):\n",
        "        return len(self.data)\n",
        "\n",
        "    def __getitem__(self, idx):\n",
        "        sample = self.data.iloc[idx]\n",
        "        data = sample.drop('target').values\n",
        "        target = sample['target']\n",
        "\n",
        "        # No image transformation applied here\n",
        "\n",
        "        return data, target\n",
        "\n",
        "# Load the Wine dataset\n",
        "wine_data = load_wine()\n",
        "\n",
        "# Instantiate the custom dataset\n",
        "wine_dataset = WineDataset(data=wine_data)\n",
        "\n",
        "# Create a data loader\n",
        "batch_size = 32\n",
        "dataloader = DataLoader(wine_dataset, batch_size=batch_size, shuffle=True)\n",
        "\n",
        "# Iterate over the dataset using the data loader\n",
        "for data, target in dataloader:\n",
        "    # Your training code here\n",
        "    pass\n",
        "\n"
      ],
      "metadata": {
        "id": "Xlen2KR0LaL4"
      },
      "execution_count": null,
      "outputs": []
    },
    {
      "cell_type": "code",
      "source": [],
      "metadata": {
        "id": "qQ6Mg0BgLxvJ"
      },
      "execution_count": null,
      "outputs": []
    }
  ]
}